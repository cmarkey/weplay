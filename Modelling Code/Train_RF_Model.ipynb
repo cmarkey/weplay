{
 "cells": [
  {
   "cell_type": "code",
   "execution_count": 2,
   "metadata": {},
   "outputs": [
    {
     "data": {
      "text/html": [
       "<div>\n",
       "<style scoped>\n",
       "    .dataframe tbody tr th:only-of-type {\n",
       "        vertical-align: middle;\n",
       "    }\n",
       "\n",
       "    .dataframe tbody tr th {\n",
       "        vertical-align: top;\n",
       "    }\n",
       "\n",
       "    .dataframe thead th {\n",
       "        text-align: right;\n",
       "    }\n",
       "</style>\n",
       "<table border=\"1\" class=\"dataframe\">\n",
       "  <thead>\n",
       "    <tr style=\"text-align: right;\">\n",
       "      <th></th>\n",
       "      <th>assumed_danger_states_new</th>\n",
       "      <th>Home_Plate_Control</th>\n",
       "      <th>Rink_Control</th>\n",
       "      <th>Max_Success</th>\n",
       "      <th>Max_Best</th>\n",
       "      <th>Max_Exp</th>\n",
       "      <th>All_Avg_Edge</th>\n",
       "      <th>O_Avg_Edge</th>\n",
       "      <th>D_Avg_Edge</th>\n",
       "      <th>All_Avg_Edges per Player</th>\n",
       "      <th>O_Avg_Edges_per_Player</th>\n",
       "      <th>D_Avg_Edges per Player</th>\n",
       "      <th>OD_MST_Ratio</th>\n",
       "      <th>All_OCR</th>\n",
       "      <th>distance_to_net</th>\n",
       "      <th>angle_to_attacking_net</th>\n",
       "      <th>woman_adv</th>\n",
       "      <th>split</th>\n",
       "    </tr>\n",
       "  </thead>\n",
       "  <tbody>\n",
       "    <tr>\n",
       "      <th>0</th>\n",
       "      <td>0</td>\n",
       "      <td>-0.775281</td>\n",
       "      <td>-0.417410</td>\n",
       "      <td>0.173950</td>\n",
       "      <td>0.012174</td>\n",
       "      <td>0.004196</td>\n",
       "      <td>12.686693</td>\n",
       "      <td>25.426174</td>\n",
       "      <td>12.998359</td>\n",
       "      <td>1.666667</td>\n",
       "      <td>1.0</td>\n",
       "      <td>1.6</td>\n",
       "      <td>1.956106</td>\n",
       "      <td>0.600000</td>\n",
       "      <td>35.724641</td>\n",
       "      <td>173.571252</td>\n",
       "      <td>1</td>\n",
       "      <td>0</td>\n",
       "    </tr>\n",
       "    <tr>\n",
       "      <th>1</th>\n",
       "      <td>0</td>\n",
       "      <td>-0.137802</td>\n",
       "      <td>0.323503</td>\n",
       "      <td>0.695621</td>\n",
       "      <td>0.038747</td>\n",
       "      <td>0.069380</td>\n",
       "      <td>14.134405</td>\n",
       "      <td>24.210186</td>\n",
       "      <td>14.079408</td>\n",
       "      <td>1.777778</td>\n",
       "      <td>1.6</td>\n",
       "      <td>1.6</td>\n",
       "      <td>1.719546</td>\n",
       "      <td>0.750000</td>\n",
       "      <td>48.417456</td>\n",
       "      <td>144.668669</td>\n",
       "      <td>1</td>\n",
       "      <td>0</td>\n",
       "    </tr>\n",
       "    <tr>\n",
       "      <th>2</th>\n",
       "      <td>1</td>\n",
       "      <td>-0.205564</td>\n",
       "      <td>0.177664</td>\n",
       "      <td>0.462435</td>\n",
       "      <td>0.031124</td>\n",
       "      <td>0.032817</td>\n",
       "      <td>14.011834</td>\n",
       "      <td>25.245765</td>\n",
       "      <td>12.590870</td>\n",
       "      <td>1.777778</td>\n",
       "      <td>1.6</td>\n",
       "      <td>1.6</td>\n",
       "      <td>2.005085</td>\n",
       "      <td>0.750000</td>\n",
       "      <td>41.584252</td>\n",
       "      <td>161.782905</td>\n",
       "      <td>1</td>\n",
       "      <td>0</td>\n",
       "    </tr>\n",
       "    <tr>\n",
       "      <th>3</th>\n",
       "      <td>1</td>\n",
       "      <td>0.058052</td>\n",
       "      <td>0.321745</td>\n",
       "      <td>0.741035</td>\n",
       "      <td>0.030433</td>\n",
       "      <td>0.036346</td>\n",
       "      <td>14.474768</td>\n",
       "      <td>25.988658</td>\n",
       "      <td>17.462536</td>\n",
       "      <td>1.777778</td>\n",
       "      <td>1.6</td>\n",
       "      <td>1.6</td>\n",
       "      <td>1.488252</td>\n",
       "      <td>0.875000</td>\n",
       "      <td>64.274801</td>\n",
       "      <td>113.374164</td>\n",
       "      <td>1</td>\n",
       "      <td>0</td>\n",
       "    </tr>\n",
       "    <tr>\n",
       "      <th>4</th>\n",
       "      <td>1</td>\n",
       "      <td>0.138706</td>\n",
       "      <td>0.090045</td>\n",
       "      <td>0.429536</td>\n",
       "      <td>0.047263</td>\n",
       "      <td>0.050201</td>\n",
       "      <td>15.171425</td>\n",
       "      <td>22.851884</td>\n",
       "      <td>19.209889</td>\n",
       "      <td>1.750000</td>\n",
       "      <td>1.5</td>\n",
       "      <td>1.6</td>\n",
       "      <td>1.189590</td>\n",
       "      <td>0.714286</td>\n",
       "      <td>51.538820</td>\n",
       "      <td>75.963757</td>\n",
       "      <td>1</td>\n",
       "      <td>1</td>\n",
       "    </tr>\n",
       "  </tbody>\n",
       "</table>\n",
       "</div>"
      ],
      "text/plain": [
       "   assumed_danger_states_new  Home_Plate_Control  Rink_Control  Max_Success  \\\n",
       "0                          0           -0.775281     -0.417410     0.173950   \n",
       "1                          0           -0.137802      0.323503     0.695621   \n",
       "2                          1           -0.205564      0.177664     0.462435   \n",
       "3                          1            0.058052      0.321745     0.741035   \n",
       "4                          1            0.138706      0.090045     0.429536   \n",
       "\n",
       "   Max_Best   Max_Exp  All_Avg_Edge  O_Avg_Edge  D_Avg_Edge  \\\n",
       "0  0.012174  0.004196     12.686693   25.426174   12.998359   \n",
       "1  0.038747  0.069380     14.134405   24.210186   14.079408   \n",
       "2  0.031124  0.032817     14.011834   25.245765   12.590870   \n",
       "3  0.030433  0.036346     14.474768   25.988658   17.462536   \n",
       "4  0.047263  0.050201     15.171425   22.851884   19.209889   \n",
       "\n",
       "   All_Avg_Edges per Player  O_Avg_Edges_per_Player  D_Avg_Edges per Player  \\\n",
       "0                  1.666667                     1.0                     1.6   \n",
       "1                  1.777778                     1.6                     1.6   \n",
       "2                  1.777778                     1.6                     1.6   \n",
       "3                  1.777778                     1.6                     1.6   \n",
       "4                  1.750000                     1.5                     1.6   \n",
       "\n",
       "   OD_MST_Ratio   All_OCR  distance_to_net  angle_to_attacking_net  woman_adv  \\\n",
       "0      1.956106  0.600000        35.724641              173.571252          1   \n",
       "1      1.719546  0.750000        48.417456              144.668669          1   \n",
       "2      2.005085  0.750000        41.584252              161.782905          1   \n",
       "3      1.488252  0.875000        64.274801              113.374164          1   \n",
       "4      1.189590  0.714286        51.538820               75.963757          1   \n",
       "\n",
       "   split  \n",
       "0      0  \n",
       "1      0  \n",
       "2      0  \n",
       "3      0  \n",
       "4      1  "
      ]
     },
     "execution_count": 2,
     "metadata": {},
     "output_type": "execute_result"
    }
   ],
   "source": [
    "from sklearn.ensemble import RandomForestRegressor\n",
    "from sklearn.model_selection import RandomizedSearchCV\n",
    "from sklearn.model_selection import train_test_split\n",
    "import pandas as pd\n",
    "import numpy as np\n",
    "import pickle\n",
    "\n",
    "data = pd.read_csv('data_2_model.csv', sep = ',')\n",
    "data.head()"
   ]
  },
  {
   "cell_type": "code",
   "execution_count": 21,
   "metadata": {},
   "outputs": [
    {
     "name": "stdout",
     "output_type": "stream",
     "text": [
      "0.22325581395348837 0.22355289421157684\n"
     ]
    }
   ],
   "source": [
    "# Separate target and features\n",
    "vars=['distance_to_net', 'Rink_Control', 'All_OCR', 'Home_Plate_Control', 'angle_to_attacking_net', 'woman_adv']\n",
    "x, y = data[vars], data['assumed_danger_states_new'] #data.iloc[:,1:],\n",
    "# Get train and test\n",
    "x_train, x_test, y_train, y_test = train_test_split(x, y, test_size=0.3, random_state=123)\n",
    "print(y_test.mean(), y_train.mean())"
   ]
  },
  {
   "cell_type": "code",
   "execution_count": 26,
   "metadata": {},
   "outputs": [
    {
     "name": "stdout",
     "output_type": "stream",
     "text": [
      "{'n_estimators': [500, 750, 1000, 1250, 1500, 1750, 2000], 'max_depth': [10, 20, 30, 40, 50, 60, None], 'min_samples_split': [2, 4, 6, 8], 'min_samples_leaf': [1, 2, 3, 4, 5]}\n"
     ]
    }
   ],
   "source": [
    "# Number of trees in random forest\n",
    "n_estimators = [int(x) for x in np.linspace(start = 500, stop = 2000, num = 7)]\n",
    "# Maximum number of levels in tree\n",
    "max_depth = [int(x) for x in np.linspace(10, 60, num = 6)]\n",
    "max_depth.append(None)\n",
    "# Minimum number of samples required to split a node\n",
    "min_samples_split = [2, 4, 6, 8]\n",
    "# Minimum number of samples required at each leaf node\n",
    "min_samples_leaf = [1, 2, 3, 4,5]\n",
    "# Create the random grid\n",
    "random_grid = {'n_estimators': n_estimators,\n",
    "               'max_depth': max_depth,\n",
    "               'min_samples_split': min_samples_split,\n",
    "               'min_samples_leaf': min_samples_leaf}\n",
    "print(random_grid)"
   ]
  },
  {
   "cell_type": "code",
   "execution_count": 34,
   "metadata": {},
   "outputs": [
    {
     "name": "stdout",
     "output_type": "stream",
     "text": [
      "Fitting 3 folds for each of 10 candidates, totalling 30 fits\n"
     ]
    },
    {
     "data": {
      "text/plain": [
       "RandomizedSearchCV(cv=3, estimator=RandomForestRegressor(), n_jobs=-1,\n",
       "                   param_distributions={'max_depth': [10, 20, 30, 40, 50, 60,\n",
       "                                                      None],\n",
       "                                        'min_samples_leaf': [1, 2, 3, 4, 5],\n",
       "                                        'min_samples_split': [2, 4, 6, 8],\n",
       "                                        'n_estimators': [500, 750, 1000, 1250,\n",
       "                                                         1500, 1750, 2000]},\n",
       "                   random_state=42, verbose=2)"
      ]
     },
     "execution_count": 34,
     "metadata": {},
     "output_type": "execute_result"
    }
   ],
   "source": [
    "# Use the random grid to search for best hyperparameters\n",
    "# First create the base model to tune\n",
    "rf = RandomForestRegressor()\n",
    "# Random search of parameters, using 3 fold cross validation, \n",
    "# search across 100 different combinations, and use all available cores\n",
    "rf_random = RandomizedSearchCV(estimator = rf, param_distributions = random_grid, cv = 3, verbose=2, random_state=42, n_jobs = -1)\n",
    "# Fit the random search model\n",
    "rf_random.fit(x_train, y_train)"
   ]
  },
  {
   "cell_type": "code",
   "execution_count": 35,
   "metadata": {},
   "outputs": [
    {
     "name": "stdout",
     "output_type": "stream",
     "text": [
      "0.19069767441860466\n",
      "0.22325581395348837\n",
      "{'n_estimators': 1000, 'min_samples_split': 8, 'min_samples_leaf': 5, 'max_depth': 50}\n"
     ]
    }
   ],
   "source": [
    "# Use the forest's predict method on the test data\n",
    "predictions = rf_random.predict(x_test)\n",
    "print((1*(predictions>0.5)!=y_test).mean())\n",
    "print((0!=y_test).mean()) \n",
    "\n",
    "#0.19534883720930232 all vars\n",
    "#0.19069767441860466 small vars\n",
    "\n",
    "print(rf_random.best_params_)"
   ]
  },
  {
   "cell_type": "code",
   "execution_count": 36,
   "metadata": {},
   "outputs": [],
   "source": [
    "rf_final = RandomForestRegressor(n_estimators = rf_random.best_params_['n_estimators'], min_samples_split=rf_random.best_params_['min_samples_split'], min_samples_leaf = rf_random.best_params_['min_samples_leaf'], max_depth = rf_random.best_params_['max_depth'],random_state = 42)\n",
    "# Train the model on all data\n",
    "rf_final.fit(x, y)\n",
    "# save the model to disk\n",
    "pickle.dump(rf_final, open('finalized_rf_model.pkl', 'wb'))"
   ]
  },
  {
   "cell_type": "code",
   "execution_count": null,
   "metadata": {},
   "outputs": [],
   "source": [
    " # load the model from disk\n",
    "# loaded_rf = pickle.load(open('finalized_rf_model.pkl', 'rb'))\n",
    "# loaded_pred = loaded_rf.predict(x_test)\n",
    "# print((1*(loaded_pred>0.5)!=y_test).mean())\n",
    "# print((0!=y_test).mean()) "
   ]
  }
 ],
 "metadata": {
  "kernelspec": {
   "display_name": "Python 3.9.7 ('base')",
   "language": "python",
   "name": "python3"
  },
  "language_info": {
   "codemirror_mode": {
    "name": "ipython",
    "version": 3
   },
   "file_extension": ".py",
   "mimetype": "text/x-python",
   "name": "python",
   "nbconvert_exporter": "python",
   "pygments_lexer": "ipython3",
   "version": "3.9.7"
  },
  "orig_nbformat": 4,
  "vscode": {
   "interpreter": {
    "hash": "62e8fc6f19db06c74b7386df3475d65e5ee514ef2c0d9dd3bfd98b0ae49b7cf4"
   }
  }
 },
 "nbformat": 4,
 "nbformat_minor": 2
}
